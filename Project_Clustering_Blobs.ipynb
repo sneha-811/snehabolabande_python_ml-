{
  "nbformat": 4,
  "nbformat_minor": 0,
  "metadata": {
    "kernelspec": {
      "display_name": "Python 3",
      "language": "python",
      "name": "python3"
    },
    "language_info": {
      "codemirror_mode": {
        "name": "ipython",
        "version": 3
      },
      "file_extension": ".py",
      "mimetype": "text/x-python",
      "name": "python",
      "nbconvert_exporter": "python",
      "pygments_lexer": "ipython3",
      "version": "3.8.3"
    },
    "colab": {
      "name": "Project Clustering Blobs.ipynb",
      "provenance": []
    }
  },
  "cells": [
    {
      "cell_type": "markdown",
      "metadata": {
        "id": "K6uszEF-tg6Q"
      },
      "source": [
        "# Unsupervised Machine Learning - KMeans\n",
        "\n",
        "Support vector machines (SVMs) are a set of supervised learning methods used for classification, regression and outliers detection. SVMs are one of the most robust prediction methods. \n",
        "\n",
        "Sources: \n",
        "[sklearn](https://scikit-learn.org/stable/modules/generated/sklearn.cluster.KMeans.html?highlight=kmeans#sklearn.cluster.KMeans), [wikipedia](https://en.wikipedia.org/wiki/K-means_clustering)"
      ]
    },
    {
      "cell_type": "markdown",
      "metadata": {
        "id": "fUB89AR6C5Br"
      },
      "source": [
        "![kmeans.png](https://www.mathworks.com/matlabcentral/mlc-downloads/downloads/submissions/52579/versions/9/screenshot.jpg)"
      ]
    },
    {
      "cell_type": "code",
      "metadata": {
        "id": "sBkS0yHzgrPW"
      },
      "source": [
        ""
      ],
      "execution_count": null,
      "outputs": []
    },
    {
      "cell_type": "code",
      "metadata": {
        "id": "vaEDWbqAgrPY"
      },
      "source": [
        "import pandas as pd\n",
        "import numpy as np\n",
        "import matplotlib.pyplot as plt\n",
        "from sklearn import datasets\n"
      ],
      "execution_count": 3,
      "outputs": []
    },
    {
      "cell_type": "code",
      "metadata": {
        "id": "c8Xub3oIgrPa"
      },
      "source": [
        "# Take make moons in built dataset\n",
        "\n",
        "data_ =  datasets.make_circles(100)"
      ],
      "execution_count": 25,
      "outputs": []
    },
    {
      "cell_type": "code",
      "metadata": {
        "id": "YZcke6elgrPb",
        "outputId": "2116b15d-5dff-4e37-c6d5-65699bf4bfe7",
        "colab": {
          "base_uri": "https://localhost:8080/"
        }
      },
      "source": [
        "# check the dataset\n",
        "\n",
        "data_ "
      ],
      "execution_count": 26,
      "outputs": [
        {
          "output_type": "execute_result",
          "data": {
            "text/plain": [
              "(array([[ 7.01045344e-01, -3.85402939e-01],\n",
              "        [-7.43821189e-01, -2.94499642e-01],\n",
              "        [ 5.02324156e-02,  7.98421383e-01],\n",
              "        [-1.87381315e-01,  9.82287251e-01],\n",
              "        [ 7.93691761e-01,  1.00266587e-01],\n",
              "        [ 1.87381315e-01, -9.82287251e-01],\n",
              "        [ 5.83174902e-01,  5.47637685e-01],\n",
              "        [ 9.92114701e-01, -1.25333234e-01],\n",
              "        [ 7.01045344e-01,  3.85402939e-01],\n",
              "        [-5.09939192e-01,  6.16410594e-01],\n",
              "        [-9.68583161e-01, -2.48689887e-01],\n",
              "        [-9.68583161e-01,  2.48689887e-01],\n",
              "        [ 6.27905195e-02, -9.98026728e-01],\n",
              "        [ 7.28968627e-01, -6.84547106e-01],\n",
              "        [ 5.09939192e-01, -6.16410594e-01],\n",
              "        [ 4.25779292e-01,  9.04827052e-01],\n",
              "        [-6.47213595e-01, -4.70228202e-01],\n",
              "        [-7.01045344e-01, -3.85402939e-01],\n",
              "        [-7.74866529e-01, -1.98951910e-01],\n",
              "        [-5.35826795e-01,  8.44327926e-01],\n",
              "        [-7.01045344e-01,  3.85402939e-01],\n",
              "        [-1.87381315e-01, -9.82287251e-01],\n",
              "        [-5.02324156e-02,  7.98421383e-01],\n",
              "        [ 7.43821189e-01,  2.94499642e-01],\n",
              "        [ 9.68583161e-01,  2.48689887e-01],\n",
              "        [ 3.09016994e-01,  9.51056516e-01],\n",
              "        [ 8.00000000e-01,  0.00000000e+00],\n",
              "        [ 6.37423990e-01, -7.70513243e-01],\n",
              "        [ 6.47213595e-01, -4.70228202e-01],\n",
              "        [-8.00000000e-01, -2.57299624e-16],\n",
              "        [ 9.29776486e-01,  3.68124553e-01],\n",
              "        [ 6.27905195e-02,  9.98026728e-01],\n",
              "        [-5.02324156e-02, -7.98421383e-01],\n",
              "        [-9.92114701e-01, -1.25333234e-01],\n",
              "        [-9.29776486e-01,  3.68124553e-01],\n",
              "        [ 8.76306680e-01,  4.81753674e-01],\n",
              "        [ 9.29776486e-01, -3.68124553e-01],\n",
              "        [-2.47213595e-01,  7.60845213e-01],\n",
              "        [ 8.09016994e-01, -5.87785252e-01],\n",
              "        [-4.28661436e-01, -6.75462340e-01],\n",
              "        [-3.09016994e-01,  9.51056516e-01],\n",
              "        [-1.00000000e+00, -3.21624530e-16],\n",
              "        [-4.25779292e-01,  9.04827052e-01],\n",
              "        [ 7.43821189e-01, -2.94499642e-01],\n",
              "        [-1.49905052e-01, -7.85829801e-01],\n",
              "        [ 1.49905052e-01, -7.85829801e-01],\n",
              "        [ 7.93691761e-01, -1.00266587e-01],\n",
              "        [ 4.25779292e-01, -9.04827052e-01],\n",
              "        [-7.43821189e-01,  2.94499642e-01],\n",
              "        [-7.93691761e-01,  1.00266587e-01],\n",
              "        [ 8.09016994e-01,  5.87785252e-01],\n",
              "        [ 5.35826795e-01, -8.44327926e-01],\n",
              "        [ 1.87381315e-01,  9.82287251e-01],\n",
              "        [ 1.00000000e+00,  0.00000000e+00],\n",
              "        [ 6.37423990e-01,  7.70513243e-01],\n",
              "        [-9.92114701e-01,  1.25333234e-01],\n",
              "        [ 3.40623433e-01, -7.23861642e-01],\n",
              "        [-5.83174902e-01, -5.47637685e-01],\n",
              "        [-1.49905052e-01,  7.85829801e-01],\n",
              "        [ 4.28661436e-01,  6.75462340e-01],\n",
              "        [-6.27905195e-02, -9.98026728e-01],\n",
              "        [-5.35826795e-01, -8.44327926e-01],\n",
              "        [-7.28968627e-01, -6.84547106e-01],\n",
              "        [-4.28661436e-01,  6.75462340e-01],\n",
              "        [ 9.92114701e-01,  1.25333234e-01],\n",
              "        [-8.09016994e-01, -5.87785252e-01],\n",
              "        [-7.28968627e-01,  6.84547106e-01],\n",
              "        [-6.37423990e-01, -7.70513243e-01],\n",
              "        [ 8.76306680e-01, -4.81753674e-01],\n",
              "        [ 6.47213595e-01,  4.70228202e-01],\n",
              "        [ 2.47213595e-01,  7.60845213e-01],\n",
              "        [-8.76306680e-01,  4.81753674e-01],\n",
              "        [-5.83174902e-01,  5.47637685e-01],\n",
              "        [-3.40623433e-01, -7.23861642e-01],\n",
              "        [ 5.09939192e-01,  6.16410594e-01],\n",
              "        [-3.09016994e-01, -9.51056516e-01],\n",
              "        [ 5.83174902e-01, -5.47637685e-01],\n",
              "        [-6.27905195e-02,  9.98026728e-01],\n",
              "        [-6.37423990e-01,  7.70513243e-01],\n",
              "        [-3.40623433e-01,  7.23861642e-01],\n",
              "        [-2.47213595e-01, -7.60845213e-01],\n",
              "        [-7.93691761e-01, -1.00266587e-01],\n",
              "        [ 7.74866529e-01,  1.98951910e-01],\n",
              "        [ 2.47213595e-01, -7.60845213e-01],\n",
              "        [ 7.74866529e-01, -1.98951910e-01],\n",
              "        [ 4.28661436e-01, -6.75462340e-01],\n",
              "        [ 7.28968627e-01,  6.84547106e-01],\n",
              "        [ 3.40623433e-01,  7.23861642e-01],\n",
              "        [-7.74866529e-01,  1.98951910e-01],\n",
              "        [-9.29776486e-01, -3.68124553e-01],\n",
              "        [-8.09016994e-01,  5.87785252e-01],\n",
              "        [ 5.35826795e-01,  8.44327926e-01],\n",
              "        [-6.47213595e-01,  4.70228202e-01],\n",
              "        [-8.76306680e-01, -4.81753674e-01],\n",
              "        [-4.25779292e-01, -9.04827052e-01],\n",
              "        [ 5.02324156e-02, -7.98421383e-01],\n",
              "        [ 9.68583161e-01, -2.48689887e-01],\n",
              "        [-5.09939192e-01, -6.16410594e-01],\n",
              "        [ 1.49905052e-01,  7.85829801e-01],\n",
              "        [ 3.09016994e-01, -9.51056516e-01]]),\n",
              " array([1, 1, 1, 0, 1, 0, 1, 0, 1, 1, 0, 0, 0, 0, 1, 0, 1, 1, 1, 0, 1, 0,\n",
              "        1, 1, 0, 0, 1, 0, 1, 1, 0, 0, 1, 0, 0, 0, 0, 1, 0, 1, 0, 0, 0, 1,\n",
              "        1, 1, 1, 0, 1, 1, 0, 0, 0, 0, 0, 0, 1, 1, 1, 1, 0, 0, 0, 1, 0, 0,\n",
              "        0, 0, 0, 1, 1, 0, 1, 1, 1, 0, 1, 0, 0, 1, 1, 1, 1, 1, 1, 1, 0, 1,\n",
              "        1, 0, 0, 0, 1, 0, 0, 1, 0, 1, 1, 0]))"
            ]
          },
          "metadata": {
            "tags": []
          },
          "execution_count": 26
        }
      ]
    },
    {
      "cell_type": "code",
      "metadata": {
        "id": "lJbjF8qIgrPd"
      },
      "source": [
        "# create input dataframe\n",
        "\n",
        "inputData = pd.DataFrame(data = data_[0])"
      ],
      "execution_count": 27,
      "outputs": []
    },
    {
      "cell_type": "code",
      "metadata": {
        "id": "gg9VKDQ3grPf",
        "outputId": "b69c7878-3f08-4d16-b2ff-8033249f4a50",
        "colab": {
          "base_uri": "https://localhost:8080/",
          "height": 204
        }
      },
      "source": [
        "inputData.head()"
      ],
      "execution_count": 28,
      "outputs": [
        {
          "output_type": "execute_result",
          "data": {
            "text/html": [
              "<div>\n",
              "<style scoped>\n",
              "    .dataframe tbody tr th:only-of-type {\n",
              "        vertical-align: middle;\n",
              "    }\n",
              "\n",
              "    .dataframe tbody tr th {\n",
              "        vertical-align: top;\n",
              "    }\n",
              "\n",
              "    .dataframe thead th {\n",
              "        text-align: right;\n",
              "    }\n",
              "</style>\n",
              "<table border=\"1\" class=\"dataframe\">\n",
              "  <thead>\n",
              "    <tr style=\"text-align: right;\">\n",
              "      <th></th>\n",
              "      <th>0</th>\n",
              "      <th>1</th>\n",
              "    </tr>\n",
              "  </thead>\n",
              "  <tbody>\n",
              "    <tr>\n",
              "      <th>0</th>\n",
              "      <td>0.701045</td>\n",
              "      <td>-0.385403</td>\n",
              "    </tr>\n",
              "    <tr>\n",
              "      <th>1</th>\n",
              "      <td>-0.743821</td>\n",
              "      <td>-0.294500</td>\n",
              "    </tr>\n",
              "    <tr>\n",
              "      <th>2</th>\n",
              "      <td>0.050232</td>\n",
              "      <td>0.798421</td>\n",
              "    </tr>\n",
              "    <tr>\n",
              "      <th>3</th>\n",
              "      <td>-0.187381</td>\n",
              "      <td>0.982287</td>\n",
              "    </tr>\n",
              "    <tr>\n",
              "      <th>4</th>\n",
              "      <td>0.793692</td>\n",
              "      <td>0.100267</td>\n",
              "    </tr>\n",
              "  </tbody>\n",
              "</table>\n",
              "</div>"
            ],
            "text/plain": [
              "          0         1\n",
              "0  0.701045 -0.385403\n",
              "1 -0.743821 -0.294500\n",
              "2  0.050232  0.798421\n",
              "3 -0.187381  0.982287\n",
              "4  0.793692  0.100267"
            ]
          },
          "metadata": {
            "tags": []
          },
          "execution_count": 28
        }
      ]
    },
    {
      "cell_type": "code",
      "metadata": {
        "id": "gUkDYw15grPg",
        "outputId": "11621717-301c-45e5-ec2d-f623b66854e5",
        "colab": {
          "base_uri": "https://localhost:8080/",
          "height": 204
        }
      },
      "source": [
        "# create output dataframe\n",
        "\n",
        "outputData = pd.DataFrame(data = data_[1])\n",
        "outputData.head()"
      ],
      "execution_count": 29,
      "outputs": [
        {
          "output_type": "execute_result",
          "data": {
            "text/html": [
              "<div>\n",
              "<style scoped>\n",
              "    .dataframe tbody tr th:only-of-type {\n",
              "        vertical-align: middle;\n",
              "    }\n",
              "\n",
              "    .dataframe tbody tr th {\n",
              "        vertical-align: top;\n",
              "    }\n",
              "\n",
              "    .dataframe thead th {\n",
              "        text-align: right;\n",
              "    }\n",
              "</style>\n",
              "<table border=\"1\" class=\"dataframe\">\n",
              "  <thead>\n",
              "    <tr style=\"text-align: right;\">\n",
              "      <th></th>\n",
              "      <th>0</th>\n",
              "    </tr>\n",
              "  </thead>\n",
              "  <tbody>\n",
              "    <tr>\n",
              "      <th>0</th>\n",
              "      <td>1</td>\n",
              "    </tr>\n",
              "    <tr>\n",
              "      <th>1</th>\n",
              "      <td>1</td>\n",
              "    </tr>\n",
              "    <tr>\n",
              "      <th>2</th>\n",
              "      <td>1</td>\n",
              "    </tr>\n",
              "    <tr>\n",
              "      <th>3</th>\n",
              "      <td>0</td>\n",
              "    </tr>\n",
              "    <tr>\n",
              "      <th>4</th>\n",
              "      <td>1</td>\n",
              "    </tr>\n",
              "  </tbody>\n",
              "</table>\n",
              "</div>"
            ],
            "text/plain": [
              "   0\n",
              "0  1\n",
              "1  1\n",
              "2  1\n",
              "3  0\n",
              "4  1"
            ]
          },
          "metadata": {
            "tags": []
          },
          "execution_count": 29
        }
      ]
    },
    {
      "cell_type": "code",
      "metadata": {
        "id": "ky9zK65fgrPh",
        "outputId": "7cefc831-8ffd-4be5-ff41-b503abdc41dd",
        "colab": {
          "base_uri": "https://localhost:8080/",
          "height": 282
        }
      },
      "source": [
        "# create a scatter plot for inputData set\n",
        "plt.scatter(inputData[0], inputData[1])\n",
        "\n"
      ],
      "execution_count": 23,
      "outputs": [
        {
          "output_type": "execute_result",
          "data": {
            "text/plain": [
              "<matplotlib.collections.PathCollection at 0x7fb95a0765d0>"
            ]
          },
          "metadata": {
            "tags": []
          },
          "execution_count": 23
        },
        {
          "output_type": "display_data",
          "data": {
            "image/png": "[encoded data removed]",
            "text/plain": [
              "<Figure size 432x288 with 1 Axes>"
            ]
          },
          "metadata": {
            "tags": [],
            "needs_background": "light"
          }
        }
      ]
    },
    {
      "cell_type": "code",
      "metadata": {
        "id": "oGiyh6VOgrPi",
        "outputId": "a20e16b1-a157-4c48-8bd8-6054b211cce5",
        "colab": {
          "base_uri": "https://localhost:8080/",
          "height": 282
        }
      },
      "source": [
        "# create a scatter plot for inputData set with outputData color\n",
        "plt.scatter(inputData[0], inputData[1], c = outputData)\n"
      ],
      "execution_count": 30,
      "outputs": [
        {
          "output_type": "execute_result",
          "data": {
            "text/plain": [
              "<matplotlib.collections.PathCollection at 0x7fb959f57890>"
            ]
          },
          "metadata": {
            "tags": []
          },
          "execution_count": 30
        },
        {
          "output_type": "display_data",
          "data": {
            "image/png": "[encoded data removed]",
            "text/plain": [
              "<Figure size 432x288 with 1 Axes>"
            ]
          },
          "metadata": {
            "tags": [],
            "needs_background": "light"
          }
        }
      ]
    },
    {
      "cell_type": "code",
      "metadata": {
        "id": "t_6vIa5cgrPj"
      },
      "source": [
        ""
      ],
      "execution_count": null,
      "outputs": []
    },
    {
      "cell_type": "code",
      "metadata": {
        "id": "IkEVzdi_grPk",
        "outputId": "03461ebf-d529-4ec2-b383-f33555e5e122",
        "colab": {
          "base_uri": "https://localhost:8080/"
        }
      },
      "source": [
        "# Call the sklearn Kmeans and make a model with 200 samples\n",
        "from sklearn.cluster import KMeans\n",
        "\n",
        "model = KMeans(n_clusters=2)\n",
        "model.fit(inputData)\n",
        "\n",
        "#model_fit\n"
      ],
      "execution_count": 33,
      "outputs": [
        {
          "output_type": "execute_result",
          "data": {
            "text/plain": [
              "KMeans(algorithm='auto', copy_x=True, init='k-means++', max_iter=300,\n",
              "       n_clusters=2, n_init=10, n_jobs=None, precompute_distances='auto',\n",
              "       random_state=None, tol=0.0001, verbose=0)"
            ]
          },
          "metadata": {
            "tags": []
          },
          "execution_count": 33
        }
      ]
    },
    {
      "cell_type": "code",
      "metadata": {
        "id": "eiOKIWzcgrPl",
        "outputId": "f6a4b10c-444b-4e28-ce75-ad364d9397f3",
        "colab": {
          "base_uri": "https://localhost:8080/"
        }
      },
      "source": [
        "# check for labels\n",
        "model.labels_\n"
      ],
      "execution_count": 34,
      "outputs": [
        {
          "output_type": "execute_result",
          "data": {
            "text/plain": [
              "array([1, 1, 0, 0, 0, 1, 0, 1, 0, 0, 1, 0, 1, 1, 1, 0, 1, 1, 1, 0, 0, 1,\n",
              "       0, 0, 0, 0, 1, 1, 1, 0, 0, 0, 1, 1, 0, 0, 1, 0, 1, 1, 0, 0, 0, 1,\n",
              "       1, 1, 1, 1, 0, 0, 0, 1, 0, 1, 0, 0, 1, 1, 0, 0, 1, 1, 1, 0, 0, 1,\n",
              "       0, 1, 1, 0, 0, 0, 0, 1, 0, 1, 1, 0, 0, 0, 1, 1, 0, 1, 1, 1, 0, 0,\n",
              "       0, 1, 0, 0, 0, 1, 1, 1, 1, 1, 0, 1], dtype=int32)"
            ]
          },
          "metadata": {
            "tags": []
          },
          "execution_count": 34
        }
      ]
    },
    {
      "cell_type": "code",
      "metadata": {
        "id": "YkBqYl-FgrPm"
      },
      "source": [
        "from sklearn import metrics"
      ],
      "execution_count": 35,
      "outputs": []
    },
    {
      "cell_type": "code",
      "metadata": {
        "id": "qwx0zuZsgrPo",
        "outputId": "3f371b71-6286-49b8-c5e6-c246e5b06a0d",
        "colab": {
          "base_uri": "https://localhost:8080/"
        }
      },
      "source": [
        "# call metrics and check silhoutte score\n",
        "metrics.silhouette_score(inputData, model.labels_)\n"
      ],
      "execution_count": 36,
      "outputs": [
        {
          "output_type": "execute_result",
          "data": {
            "text/plain": [
              "0.39091576063431177"
            ]
          },
          "metadata": {
            "tags": []
          },
          "execution_count": 36
        }
      ]
    },
    {
      "cell_type": "code",
      "metadata": {
        "id": "Fe99znbegrPp",
        "outputId": "0359eb82-f4a0-462a-b12c-ccd28db0cf9a",
        "colab": {
          "base_uri": "https://localhost:8080/",
          "height": 282
        }
      },
      "source": [
        "# create a scatter plot for inputData set with model labels color\n",
        "plt.scatter(inputData[0], inputData[1], c = model.labels_)\n"
      ],
      "execution_count": 38,
      "outputs": [
        {
          "output_type": "execute_result",
          "data": {
            "text/plain": [
              "<matplotlib.collections.PathCollection at 0x7fb959f26110>"
            ]
          },
          "metadata": {
            "tags": []
          },
          "execution_count": 38
        },
        {
          "output_type": "display_data",
          "data": {
            "image/png": "[encoded data removed]",
            "text/plain": [
              "<Figure size 432x288 with 1 Axes>"
            ]
          },
          "metadata": {
            "tags": [],
            "needs_background": "light"
          }
        }
      ]
    },
    {
      "cell_type": "markdown",
      "metadata": {
        "id": "vcs-ONgGgrPq"
      },
      "source": [
        "#### finding right number of cluster"
      ]
    },
    {
      "cell_type": "code",
      "metadata": {
        "id": "GU9HsjnZgrPr"
      },
      "source": [
        "cluster_range = range(1, 20)\n",
        "error_list = []\n",
        "\n",
        "for i in cluster_range:\n",
        "    model = KMeans(n_clusters=i)\n",
        "    model.fit(inputData)\n",
        "    res = model.inertia_\n",
        "    error_list.append(res)"
      ],
      "execution_count": null,
      "outputs": []
    },
    {
      "cell_type": "code",
      "metadata": {
        "id": "hN7T8gj2grPr",
        "outputId": "d9d0bc1c-a02d-45d9-d8c2-ce3f0b643bbb"
      },
      "source": [
        "import matplotlib.pyplot as plt\n",
        "\n",
        "plt.plot(cluster_range, error_list, marker = \"o\", color = \"g\", markersize = 10)\n",
        "plt.xlabel(\"Cluster Range\")\n",
        "plt.ylabel(\"IntraCluster Sum\")\n",
        "plt.title(\"KMeans\")\n",
        "plt.show()"
      ],
      "execution_count": null,
      "outputs": [
        {
          "output_type": "display_data",
          "data": {
            "image/png": "[encoded data removed]",
            "text/plain": [
              "<Figure size 432x288 with 1 Axes>"
            ]
          },
          "metadata": {
            "tags": [],
            "needs_background": "light"
          }
        }
      ]
    },
    {
      "cell_type": "code",
      "metadata": {
        "id": "hm1TaBhXgrPs"
      },
      "source": [
        ""
      ],
      "execution_count": null,
      "outputs": []
    },
    {
      "cell_type": "code",
      "metadata": {
        "id": "VeZqeQUUgrPt"
      },
      "source": [
        ""
      ],
      "execution_count": null,
      "outputs": []
    }
  ]
}